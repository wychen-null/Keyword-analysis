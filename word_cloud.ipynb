{
 "cells": [
  {
   "cell_type": "markdown",
   "source": [
    "## 词云展示\n",
    "读取csv, 生成图云\n",
    "1. 2022 - 2023 总体分析 自定义背景与形状 （only 1 or 2）\n",
    "2. 季度或区间分析 采用普通的彩色矩形词云"
   ],
   "metadata": {
    "collapsed": false
   },
   "id": "dee4b7dc2ac10d86"
  },
  {
   "cell_type": "code",
   "execution_count": 1,
   "id": "initial_id",
   "metadata": {
    "collapsed": true,
    "ExecuteTime": {
     "end_time": "2023-11-24T11:45:41.274669800Z",
     "start_time": "2023-11-24T11:45:41.266547800Z"
    }
   },
   "outputs": [
    {
     "name": "stdout",
     "output_type": "stream",
     "text": [
      "True\n"
     ]
    }
   ],
   "source": [
    "print('https' in 'https://fdsafadsfas')"
   ]
  },
  {
   "cell_type": "code",
   "execution_count": null,
   "outputs": [],
   "source": [],
   "metadata": {
    "collapsed": false
   },
   "id": "f88169a9918ee8ea"
  }
 ],
 "metadata": {
  "kernelspec": {
   "display_name": "Python 3",
   "language": "python",
   "name": "python3"
  },
  "language_info": {
   "codemirror_mode": {
    "name": "ipython",
    "version": 2
   },
   "file_extension": ".py",
   "mimetype": "text/x-python",
   "name": "python",
   "nbconvert_exporter": "python",
   "pygments_lexer": "ipython2",
   "version": "2.7.6"
  }
 },
 "nbformat": 4,
 "nbformat_minor": 5
}
