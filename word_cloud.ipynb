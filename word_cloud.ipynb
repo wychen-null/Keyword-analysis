{
 "cells": [
  {
   "cell_type": "markdown",
   "source": [
    "## 词云展示\n",
    "读取csv, 生成图云\n",
    "1. 2022 - 2023 总体分析 自定义背景与形状 （only 1 or 2）\n",
    "2. 季度或区间分析 采用普通的彩色矩形词云"
   ],
   "metadata": {
    "collapsed": false
   },
   "id": "dee4b7dc2ac10d86"
  },
  {
   "cell_type": "code",
   "execution_count": 3,
   "id": "initial_id",
   "metadata": {
    "collapsed": true,
    "ExecuteTime": {
     "end_time": "2023-11-25T05:03:59.238731900Z",
     "start_time": "2023-11-25T05:03:59.224989900Z"
    }
   },
   "outputs": [],
   "source": [
    "import stylecloud\n",
    "import json\n",
    "import csv"
   ]
  },
  {
   "cell_type": "code",
   "execution_count": 4,
   "outputs": [],
   "source": [
    "# #读取JSON文件\n",
    "# with open('output/output_nltk1.json', 'r') as json_file:\n",
    "#     data = json.load(json_file)\n",
    "# \n",
    "# # 创建CSV文件并写入数据\n",
    "# with open('output/output_nltk1.csv', 'w', newline='') as csv_file:\n",
    "#     writer = csv.writer(csv_file)\n",
    "# \n",
    "#     # 写入CSV文件的表头\n",
    "#     writer.writerow(['word', 'freq'])\n",
    "# \n",
    "#     # 写入JSON数据\n",
    "#     for item in data:\n",
    "#         writer.writerow([item[0], item[1]])"
   ],
   "metadata": {
    "collapsed": false,
    "ExecuteTime": {
     "end_time": "2023-11-25T05:03:59.239729900Z",
     "start_time": "2023-11-25T05:03:59.230912800Z"
    }
   },
   "id": "7ba14d927bddc89c"
  },
  {
   "cell_type": "code",
   "execution_count": 5,
   "outputs": [],
   "source": [
    "stylecloud.gen_stylecloud(file_path='output/TF_IDF/output_2023_season4.csv',\n",
    "                          icon_name='fas fa-shield-alt',\n",
    "                          # icon_name='fas fa-bug',\n",
    "                          colors='white',\n",
    "                          background_color='black',\n",
    "                          output_name='output/wordCloud/season4_shield.png',\n",
    "                          collocations=False)"
   ],
   "metadata": {
    "collapsed": false,
    "ExecuteTime": {
     "end_time": "2023-11-25T05:04:01.064820900Z",
     "start_time": "2023-11-25T05:03:59.232530400Z"
    }
   },
   "id": "f88169a9918ee8ea"
  }
 ],
 "metadata": {
  "kernelspec": {
   "display_name": "Python 3",
   "language": "python",
   "name": "python3"
  },
  "language_info": {
   "codemirror_mode": {
    "name": "ipython",
    "version": 2
   },
   "file_extension": ".py",
   "mimetype": "text/x-python",
   "name": "python",
   "nbconvert_exporter": "python",
   "pygments_lexer": "ipython2",
   "version": "2.7.6"
  }
 },
 "nbformat": 4,
 "nbformat_minor": 5
}
