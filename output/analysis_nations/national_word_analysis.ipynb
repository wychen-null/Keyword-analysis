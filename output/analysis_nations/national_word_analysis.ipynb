{
 "cells": [
  {
   "cell_type": "code",
   "execution_count": 53,
   "id": "initial_id",
   "metadata": {
    "collapsed": true,
    "ExecuteTime": {
     "end_time": "2023-11-25T07:31:35.681840800Z",
     "start_time": "2023-11-25T07:31:35.679283600Z"
    }
   },
   "outputs": [],
   "source": [
    "import json\n",
    "import csv\n",
    "import pandas as pd"
   ]
  },
  {
   "cell_type": "code",
   "execution_count": 54,
   "outputs": [],
   "source": [
    "#读取JSON文件\n",
    "with open('../nltk_output/output_nltk_2023_07_09.json', 'r') as json_file:\n",
    "    data = json.load(json_file)\n",
    "\n",
    "# 创建CSV文件并写入数据\n",
    "with open('../analysis_example/output_nltk_2023_07_09.csv', 'w', newline='') as csv_file:\n",
    "    writer = csv.writer(csv_file)\n",
    "\n",
    "    # 写入CSV文件的表头\n",
    "    writer.writerow(['word', 'freq'])\n",
    "\n",
    "    # 写入JSON数据\n",
    "    for item in data:\n",
    "        writer.writerow([item[0], item[1]])"
   ],
   "metadata": {
    "collapsed": false,
    "ExecuteTime": {
     "end_time": "2023-11-25T07:31:35.742815400Z",
     "start_time": "2023-11-25T07:31:35.687951700Z"
    }
   },
   "id": "862f9ab2dffb7684"
  },
  {
   "cell_type": "code",
   "execution_count": 55,
   "outputs": [],
   "source": [
    "data = pd.read_csv('output_nltk_2023_07_09.csv')\n",
    "data_dict = data.to_dict('records')\n",
    "\n",
    "nation_list = []\n",
    "with open(\"../../other_file/country_names.txt\", \"r\") as tf:\n",
    "    nation_list = tf.read().split(\"\\n\")\n",
    "\n",
    "results = []\n",
    "for data in data_dict:\n",
    "    if data['word'] in nation_list:\n",
    "        results.append([data['word'], data['freq']])\n",
    "        \n",
    "with open('../analysis_example/2023_season_3_nation.csv', 'w', newline='') as f:\n",
    "   writer = csv.writer(f)\n",
    "   writer.writerows(results)"
   ],
   "metadata": {
    "collapsed": false,
    "ExecuteTime": {
     "end_time": "2023-11-25T07:31:36.129939600Z",
     "start_time": "2023-11-25T07:31:35.742815400Z"
    }
   },
   "id": "4cc2caaf3ae041a0"
  },
  {
   "cell_type": "code",
   "execution_count": 55,
   "outputs": [],
   "source": [],
   "metadata": {
    "collapsed": false,
    "ExecuteTime": {
     "end_time": "2023-11-25T07:31:36.134379600Z",
     "start_time": "2023-11-25T07:31:36.133128Z"
    }
   },
   "id": "4ccd30961a0bd518"
  }
 ],
 "metadata": {
  "kernelspec": {
   "display_name": "Python 3",
   "language": "python",
   "name": "python3"
  },
  "language_info": {
   "codemirror_mode": {
    "name": "ipython",
    "version": 2
   },
   "file_extension": ".py",
   "mimetype": "text/x-python",
   "name": "python",
   "nbconvert_exporter": "python",
   "pygments_lexer": "ipython2",
   "version": "2.7.6"
  }
 },
 "nbformat": 4,
 "nbformat_minor": 5
}
